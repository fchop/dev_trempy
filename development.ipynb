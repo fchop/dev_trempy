{
 "cells": [
  {
   "cell_type": "markdown",
   "metadata": {},
   "source": [
    "    Testing and development of the trempy package"
   ]
  },
  {
   "cell_type": "code",
   "execution_count": 1,
   "metadata": {},
   "outputs": [],
   "source": [
    "import numpy as np\n",
    "import pandas as pd\n",
    "\n",
    "from trempy.read.read import read\n",
    "from trempy.tests.test_auxiliary import get_random_init"
   ]
  },
  {
   "cell_type": "code",
   "execution_count": null,
   "metadata": {},
   "outputs": [],
   "source": []
  },
  {
   "cell_type": "code",
   "execution_count": 2,
   "metadata": {},
   "outputs": [],
   "source": [
    "# for key, value in init_dict.items():\n",
    "#     print('{0}: {1}'.format(key, value))\n",
    "#     print('\\n')"
   ]
  },
  {
   "cell_type": "code",
   "execution_count": 23,
   "metadata": {},
   "outputs": [],
   "source": [
    "for _ in np.arange(10):\n",
    "    init_dict = get_random_init()\n",
    "    read_dict = read('test.trempy.ini')\n",
    "    # Note that QUESTIONS are filled with default values upon reading. The print function doesn't do the same.\n",
    "    for key in init_dict.keys():\n",
    "        if key in ['QUESTIONS']:\n",
    "            init_questions = init_dict[key].keys()\n",
    "            read_questions = read_dict[key].keys()\n",
    "            assert(len(init_questions) == len(read_questions))\n",
    "            assert(init_questions == read_questions)\n",
    "        for key_ in init_dict[key].keys():\n",
    "            if key in ['CUTOFFS']:\n",
    "                # Here, issues with HUGE_FLOAT can occur. Manual inspection seemed fine.\n",
    "                pass\n",
    "            else:\n",
    "                np.testing.assert_equal(init_dict[key][key_], read_dict[key][key_])\n"
   ]
  },
  {
   "cell_type": "code",
   "execution_count": null,
   "metadata": {},
   "outputs": [],
   "source": []
  },
  {
   "cell_type": "code",
   "execution_count": null,
   "metadata": {},
   "outputs": [],
   "source": []
  },
  {
   "cell_type": "code",
   "execution_count": null,
   "metadata": {},
   "outputs": [],
   "source": []
  }
 ],
 "metadata": {
  "kernelspec": {
   "display_name": "Python 3",
   "language": "python",
   "name": "python3"
  },
  "language_info": {
   "codemirror_mode": {
    "name": "ipython",
    "version": 3
   },
   "file_extension": ".py",
   "mimetype": "text/x-python",
   "name": "python",
   "nbconvert_exporter": "python",
   "pygments_lexer": "ipython3",
   "version": "3.7.0"
  }
 },
 "nbformat": 4,
 "nbformat_minor": 2
}
