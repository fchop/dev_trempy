{
 "cells": [
  {
   "cell_type": "markdown",
   "metadata": {},
   "source": [
    "    Testing and development of the trempy package"
   ]
  },
  {
   "cell_type": "code",
   "execution_count": 1,
   "metadata": {},
   "outputs": [],
   "source": [
    "import numpy as np\n",
    "import pandas as pd\n",
    "\n",
    "from trempy.read.read import read"
   ]
  },
  {
   "cell_type": "code",
   "execution_count": 2,
   "metadata": {},
   "outputs": [
    {
     "name": "stdout",
     "output_type": "stream",
     "text": [
      "Version: nonstationary.\n"
     ]
    }
   ],
   "source": [
    "# Read init file\n",
    "init_dict = read('simulate.trempy.ini')"
   ]
  },
  {
   "cell_type": "code",
   "execution_count": 3,
   "metadata": {},
   "outputs": [
    {
     "name": "stdout",
     "output_type": "stream",
     "text": [
      "VERSION: {'version': 'nonstationary'}\n",
      "\n",
      "\n",
      "SIMULATION: {'agents': 1000, 'file': 'data', 'seed': 284}\n",
      "\n",
      "\n",
      "ESTIMATION: {'agents': 1000, 'detailed': True, 'file': 'data.trempy.pkl', 'maxfun': 10, 'optimizer': 'SCIPY-POWELL', 'skip': 0, 'start': 'auto'}\n",
      "\n",
      "\n",
      "SCIPY-BFGS: {'eps': 1.4901161193847656e-08, 'gtol': 1e-05}\n",
      "\n",
      "\n",
      "SCIPY-POWELL: {'ftol': 0.0001, 'xtol': 0.0001}\n",
      "\n",
      "\n",
      "QUESTIONS: {13: (49.8508, False, [0.01, 75.0]), 31: (2.452, False, [0.01, 20.0]), 32: (4.6618, False, [0.01, 20.0]), 33: (9.0723, False, [0.01, 20.0]), 34: (2.4056, False, [0.01, 20.0]), 35: (4.8639, False, [0.01, 20.0]), 36: (9.4031, False, [0.01, 20.0]), 37: (2.1343, False, [0.01, 20.0]), 38: (4.072, False, [0.01, 20.0]), 39: (8.4174, False, [0.01, 20.0])}\n",
      "\n",
      "\n",
      "CUTOFFS: {13: [0.0, 200.0], 31: [-5.0, 5.0], 32: [-10.0, 10.0], 33: [-20.0, 20.0], 34: [-5.0, 5.0], 35: [-10.0, 10.0], 36: [-20.0, 20.0], 37: [-5.0, 5.0], 38: [-10.0, 10.0], 39: [-20.0, 20.0], 40: [-5.0, 5.0], 41: [-5.0, 5.0], 42: [-5.0, 5.0], 43: [-5.0, 5.0], 44: [-5.0, 5.0], 45: [-5.0, 5.0]}\n",
      "\n",
      "\n",
      "UNIATTRIBUTE SELF: {}\n",
      "\n",
      "\n",
      "UNIATTRIBUTE OTHER: {}\n",
      "\n",
      "\n",
      "MULTIATTRIBUTE COPULA: {}\n",
      "\n",
      "\n",
      "ATEMPORAL PARAMETERS: {'alpha': (0.8, False, [0.01, 5.0]), 'beta': (0.7, False, [0.01, 5.0]), 'gamma': (0.6, False, [0.01, 5.0]), 'y_scale': (0.5, False, [0.01, 100.0])}\n",
      "\n",
      "\n",
      "TEMPORAL PARAMETERS: {'discount_factors_0': (0.99, False, [1.0, 1.0]), 'discount_factors_1': (0.95, False, [0.01, 1.0]), 'discount_factors_3': (0.9, False, [0.01, 1.0]), 'discount_factors_6': (0.8, False, [0.01, 1.0]), 'discount_factors_12': (0.7, False, [0.01, 1.0]), 'discount_factors_24': (0.5, False, [0.01, 1.0]), 'unrestricted_weights_0': (None, False, [0.01, 5.0]), 'unrestricted_weights_1': (None, False, [0.01, 5.0]), 'unrestricted_weights_3': (None, False, [0.01, 5.0]), 'unrestricted_weights_6': (None, False, [0.01, 5.0]), 'unrestricted_weights_12': (0.7, False, [0.01, 5.0]), 'unrestricted_weights_24': (0.6, False, [0.01, 5.0])}\n",
      "\n",
      "\n"
     ]
    }
   ],
   "source": [
    "for key, value in init_dict.items():\n",
    "    print('{0}: {1}'.format(key, value))\n",
    "    print('\\n')"
   ]
  },
  {
   "cell_type": "code",
   "execution_count": 4,
   "metadata": {},
   "outputs": [
    {
     "data": {
      "text/plain": [
       "{'discount_factors_0': (0.99, False, [1.0, 1.0]),\n",
       " 'discount_factors_1': (0.95, False, [0.01, 1.0]),\n",
       " 'discount_factors_3': (0.9, False, [0.01, 1.0]),\n",
       " 'discount_factors_6': (0.8, False, [0.01, 1.0]),\n",
       " 'discount_factors_12': (0.7, False, [0.01, 1.0]),\n",
       " 'discount_factors_24': (0.5, False, [0.01, 1.0]),\n",
       " 'unrestricted_weights_0': (None, False, [0.01, 5.0]),\n",
       " 'unrestricted_weights_1': (None, False, [0.01, 5.0]),\n",
       " 'unrestricted_weights_3': (None, False, [0.01, 5.0]),\n",
       " 'unrestricted_weights_6': (None, False, [0.01, 5.0]),\n",
       " 'unrestricted_weights_12': (0.7, False, [0.01, 5.0]),\n",
       " 'unrestricted_weights_24': (0.6, False, [0.01, 5.0])}"
      ]
     },
     "execution_count": 4,
     "metadata": {},
     "output_type": "execute_result"
    }
   ],
   "source": [
    "init_dict['TEMPORAL PARAMETERS']"
   ]
  }
 ],
 "metadata": {
  "kernelspec": {
   "display_name": "Python 3",
   "language": "python",
   "name": "python3"
  },
  "language_info": {
   "codemirror_mode": {
    "name": "ipython",
    "version": 3
   },
   "file_extension": ".py",
   "mimetype": "text/x-python",
   "name": "python",
   "nbconvert_exporter": "python",
   "pygments_lexer": "ipython3",
   "version": "3.7.0"
  }
 },
 "nbformat": 4,
 "nbformat_minor": 2
}
