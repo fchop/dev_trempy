{
 "cells": [
  {
   "cell_type": "markdown",
   "metadata": {},
   "source": [
    "    Testing and development of the trempy package"
   ]
  },
  {
   "cell_type": "code",
   "execution_count": 1,
   "metadata": {},
   "outputs": [],
   "source": [
    "import numpy as np\n",
    "import pandas as pd\n",
    "\n",
    "from trempy.read.read import read\n",
    "from trempy.tests.test_auxiliary import get_random_init\n",
    "from trempy.clsModel import ModelCls\n",
    "\n",
    "from trempy.simulate.simulate import simulate"
   ]
  },
  {
   "cell_type": "code",
   "execution_count": 2,
   "metadata": {},
   "outputs": [],
   "source": [
    "from trempy.tests.test_unit import test_1, test_2, test_3, test_4, test_5"
   ]
  },
  {
   "cell_type": "code",
   "execution_count": null,
   "metadata": {},
   "outputs": [],
   "source": []
  },
  {
   "cell_type": "code",
   "execution_count": 3,
   "metadata": {},
   "outputs": [],
   "source": [
    "df_sim = pd.read_pickle('perturb.all.truth.trempy.pkl')"
   ]
  },
  {
   "cell_type": "code",
   "execution_count": 18,
   "metadata": {},
   "outputs": [
    {
     "data": {
      "text/html": [
       "<div>\n",
       "<style scoped>\n",
       "    .dataframe tbody tr th:only-of-type {\n",
       "        vertical-align: middle;\n",
       "    }\n",
       "\n",
       "    .dataframe tbody tr th {\n",
       "        vertical-align: top;\n",
       "    }\n",
       "\n",
       "    .dataframe thead th {\n",
       "        text-align: right;\n",
       "    }\n",
       "</style>\n",
       "<table border=\"1\" class=\"dataframe\">\n",
       "  <thead>\n",
       "    <tr style=\"text-align: right;\">\n",
       "      <th></th>\n",
       "      <th></th>\n",
       "      <th>Individual</th>\n",
       "      <th>Question</th>\n",
       "      <th>Compensation</th>\n",
       "    </tr>\n",
       "    <tr>\n",
       "      <th>Individual</th>\n",
       "      <th>Question</th>\n",
       "      <th></th>\n",
       "      <th></th>\n",
       "      <th></th>\n",
       "    </tr>\n",
       "  </thead>\n",
       "  <tbody>\n",
       "    <tr>\n",
       "      <th rowspan=\"5\" valign=\"top\">0</th>\n",
       "      <th>13</th>\n",
       "      <td>0</td>\n",
       "      <td>13</td>\n",
       "      <td>9999.000000</td>\n",
       "    </tr>\n",
       "    <tr>\n",
       "      <th>31</th>\n",
       "      <td>0</td>\n",
       "      <td>31</td>\n",
       "      <td>0.270794</td>\n",
       "    </tr>\n",
       "    <tr>\n",
       "      <th>32</th>\n",
       "      <td>0</td>\n",
       "      <td>32</td>\n",
       "      <td>2.247885</td>\n",
       "    </tr>\n",
       "    <tr>\n",
       "      <th>33</th>\n",
       "      <td>0</td>\n",
       "      <td>33</td>\n",
       "      <td>5.335972</td>\n",
       "    </tr>\n",
       "    <tr>\n",
       "      <th>34</th>\n",
       "      <td>0</td>\n",
       "      <td>34</td>\n",
       "      <td>0.746837</td>\n",
       "    </tr>\n",
       "  </tbody>\n",
       "</table>\n",
       "</div>"
      ],
      "text/plain": [
       "                     Individual  Question  Compensation\n",
       "Individual Question                                    \n",
       "0          13                 0        13   9999.000000\n",
       "           31                 0        31      0.270794\n",
       "           32                 0        32      2.247885\n",
       "           33                 0        33      5.335972\n",
       "           34                 0        34      0.746837"
      ]
     },
     "execution_count": 18,
     "metadata": {},
     "output_type": "execute_result"
    }
   ],
   "source": [
    "df_sim.head()"
   ]
  },
  {
   "cell_type": "code",
   "execution_count": 17,
   "metadata": {},
   "outputs": [],
   "source": [
    "df_sim_masked = df_sim['Compensation'].mask(df_sim['Compensation'].isin([9999]))\n",
    "\n",
    "stats = dict()\n",
    "stats['sim'] = dict()\n",
    "for q in [13]:\n",
    "    num_obs = df_sim.loc[(slice(None), slice(q, q)), 'Compensation'].shape[0]\n",
    "    stat = df_sim_masked.loc[slice(None), slice(q, q)].describe().tolist()\n",
    "    stats['sim'][q] = [num_obs] + stat"
   ]
  },
  {
   "cell_type": "code",
   "execution_count": 15,
   "metadata": {},
   "outputs": [
    {
     "data": {
      "text/plain": [
       "{'sim': {13: [1000, 0.0, nan, nan, nan, nan, nan, nan, nan]}}"
      ]
     },
     "execution_count": 15,
     "metadata": {},
     "output_type": "execute_result"
    }
   ],
   "source": [
    "stats"
   ]
  },
  {
   "cell_type": "code",
   "execution_count": null,
   "metadata": {},
   "outputs": [],
   "source": []
  },
  {
   "cell_type": "code",
   "execution_count": null,
   "metadata": {},
   "outputs": [],
   "source": [
    "#for key, value in init_dict.items():\n",
    "#    print('{}: {}'.format(key, value))\n",
    "#    print('\\n')"
   ]
  },
  {
   "cell_type": "code",
   "execution_count": null,
   "metadata": {},
   "outputs": [],
   "source": [
    "for _ in np.arange(100):\n",
    "    init_dict = get_random_init()\n",
    "    read_dict = read('test.trempy.ini')\n",
    "    # Note that QUESTIONS are filled with default values upon reading. The print function doesn't do the same.\n",
    "    for key in init_dict.keys():\n",
    "        if key in ['QUESTIONS']:\n",
    "            init_questions = init_dict[key].keys()\n",
    "            read_questions = read_dict[key].keys()\n",
    "            assert(len(init_questions) == len(read_questions))\n",
    "            assert(init_questions == read_questions)\n",
    "        for key_ in init_dict[key].keys():\n",
    "            if key in ['CUTOFFS']:\n",
    "                # Here, issues with HUGE_FLOAT can occur. Manual inspection seemed fine.\n",
    "                pass\n",
    "            else:\n",
    "                np.testing.assert_equal(init_dict[key][key_], read_dict[key][key_])\n"
   ]
  },
  {
   "cell_type": "code",
   "execution_count": null,
   "metadata": {},
   "outputs": [],
   "source": [
    "# Test if ModelCls is initialized correctly. The test is create random dict -> write to disk -> read with ModelCls\n",
    "# --> save to disk with ModelCls.write_out --> read back with read() --> compare to initial file.\n",
    "\n",
    "for _ in np.arange(10):\n",
    "    init_dict = get_random_init()\n",
    "    model = ModelCls('test.trempy.ini')\n",
    "    model.write_out('test.trempy.ini')\n",
    "    read_dict = read('test.trempy.ini')\n",
    "    for key in init_dict.keys():\n",
    "        if key in ['QUESTIONS']:\n",
    "            init_questions = init_dict[key].keys()\n",
    "            read_questions = read_dict[key].keys()\n",
    "            assert(len(init_questions) == len(read_questions))\n",
    "            assert(init_questions == read_questions)\n",
    "        for key_ in init_dict[key].keys():\n",
    "            if key in ['CUTOFFS']:\n",
    "                # Here, issues with HUGE_FLOAT can occur. Manual inspection seemed fine.\n",
    "                pass\n",
    "            else:\n",
    "                np.testing.assert_equal(init_dict[key][key_], read_dict[key][key_])\n",
    "    \n",
    "    "
   ]
  },
  {
   "cell_type": "code",
   "execution_count": null,
   "metadata": {},
   "outputs": [],
   "source": [
    "# Test simulate()\n",
    "init_dict = get_random_init(constr={'version': 'nonstationary'})\n",
    "data = simulate('test.trempy.ini')"
   ]
  },
  {
   "cell_type": "code",
   "execution_count": null,
   "metadata": {},
   "outputs": [],
   "source": [
    "data.head()"
   ]
  },
  {
   "cell_type": "code",
   "execution_count": null,
   "metadata": {},
   "outputs": [],
   "source": []
  },
  {
   "cell_type": "code",
   "execution_count": null,
   "metadata": {},
   "outputs": [],
   "source": []
  }
 ],
 "metadata": {
  "kernelspec": {
   "display_name": "Python 3",
   "language": "python",
   "name": "python3"
  },
  "language_info": {
   "codemirror_mode": {
    "name": "ipython",
    "version": 3
   },
   "file_extension": ".py",
   "mimetype": "text/x-python",
   "name": "python",
   "nbconvert_exporter": "python",
   "pygments_lexer": "ipython3",
   "version": "3.7.0"
  }
 },
 "nbformat": 4,
 "nbformat_minor": 2
}
