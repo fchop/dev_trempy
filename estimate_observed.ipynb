{
 "cells": [
  {
   "cell_type": "code",
   "execution_count": 1,
   "metadata": {},
   "outputs": [],
   "source": [
    "import pandas as pd\n",
    "import os\n",
    "\n",
    "from trempy.tests.test_auxiliary import visualize_modelfit"
   ]
  },
  {
   "cell_type": "code",
   "execution_count": 2,
   "metadata": {},
   "outputs": [],
   "source": [
    "df = pd.read_pickle(r'../../altruism_data/processed/full_data.pkl')\n",
    "\n",
    "dict_ = dict()\n",
    "for i, label in enumerate(df['Participant.code'].values):\n",
    "    dict_[label] = i\n",
    "df['Participant.code'].replace(dict_, inplace=True)\n",
    "\n",
    "df.rename(columns={'Participant.code': 'Individual'}, inplace=True)\n",
    "df.rename(columns={'m': 'Compensation'}, inplace=True)\n",
    "\n",
    "df = df[['Individual', 'Question', 'Compensation']]\n",
    "df.set_index(['Individual', 'Question'], inplace=True, drop=False)\n",
    "dtype = {'Individual': np.int, 'Question': np.int, 'Compensation': np.float}\n",
    "df = df.astype(dtype)\n",
    "df.sort_index(inplace=True)\n",
    "\n",
    "df.to_pickle('observed.trempy.pkl', protocol=2)\n",
    "write_info(df, 'observed')\n",
    "\n",
    "np.testing.assert_equal(sum(df.sum()), 88468853.79)"
   ]
  },
  {
   "cell_type": "code",
   "execution_count": 4,
   "metadata": {},
   "outputs": [
    {
     "data": {
      "text/plain": [
       "Index(['x', 'y', 'I1', 'I2_head', 'I2_tail', 'm', 'm_min', 'm_max',\n",
       "       'self_left', 'self_right', 't1', 't2', 'Question', 'Participant.code'],\n",
       "      dtype='object')"
      ]
     },
     "execution_count": 4,
     "metadata": {},
     "output_type": "execute_result"
    }
   ],
   "source": [
    "df.columns"
   ]
  },
  {
   "cell_type": "code",
   "execution_count": null,
   "metadata": {},
   "outputs": [],
   "source": []
  },
  {
   "cell_type": "code",
   "execution_count": null,
   "metadata": {},
   "outputs": [],
   "source": []
  },
  {
   "cell_type": "code",
   "execution_count": null,
   "metadata": {},
   "outputs": [],
   "source": []
  }
 ],
 "metadata": {
  "kernelspec": {
   "display_name": "Python 3",
   "language": "python",
   "name": "python3"
  },
  "language_info": {
   "codemirror_mode": {
    "name": "ipython",
    "version": 3
   },
   "file_extension": ".py",
   "mimetype": "text/x-python",
   "name": "python",
   "nbconvert_exporter": "python",
   "pygments_lexer": "ipython3",
   "version": "3.7.0"
  }
 },
 "nbformat": 4,
 "nbformat_minor": 2
}
