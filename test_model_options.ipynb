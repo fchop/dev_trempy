{
 "cells": [
  {
   "cell_type": "code",
   "execution_count": null,
   "metadata": {
    "scrolled": true
   },
   "outputs": [],
   "source": [
    "\"\"\"Test if model options work as intended.\"\"\"\n",
    "import copy\n",
    "import os\n",
    "\n",
    "from trempy.read.read import read\n",
    "from trempy.tests.test_auxiliary import get_random_init\n",
    "from trempy.shared.shared_auxiliary import print_init_dict\n",
    "from trempy.clsModel import ModelCls\n",
    "\n",
    "from trempy.simulate.simulate import simulate\n",
    "from trempy.estimate.estimate import estimate\n",
    "\n"
   ]
  },
  {
   "cell_type": "code",
   "execution_count": null,
   "metadata": {},
   "outputs": [],
   "source": [
    "os.chdir('model_type_test')"
   ]
  },
  {
   "cell_type": "code",
   "execution_count": null,
   "metadata": {},
   "outputs": [],
   "source": [
    "init_dict = get_random_init({'version': 'nonstationary', 'fname': 'test'})\n",
    "hyperbolic_dict = copy.deepcopy(init_dict)\n",
    "exponential_dict = copy.deepcopy(init_dict)\n",
    "\n",
    "# For experimentation\n",
    "init_dict['VERSION']['discounting'] = None\n",
    "hyperbolic_dict['VERSION']['discounting'] = 'hyperbolic'\n",
    "exponential_dict['VERSION']['discounting'] = 'exponential'\n",
    "\n",
    "init_dict['VERSION']['stationary_model'] = False\n",
    "hyperbolic_dict['VERSION']['stationary_model'] = False\n",
    "exponential_dict['VERSION']['stationary_model'] = False\n",
    "\n",
    "hyperbolic_dict['SIMULATION']['file'] = 'test.hyperbolic'\n",
    "exponential_dict['SIMULATION']['file'] = 'test.exponential'\n",
    "\n",
    "hyperbolic_dict['ESTIMATION']['file'] = 'test.hyperbolic.trempy.pkl'\n",
    "exponential_dict['SIMULATION']['file'] = 'test.exponential.trempy.pkl'\n",
    "\n",
    "print_init_dict(init_dict)\n",
    "print_init_dict(hyperbolic_dict, 'test.hyperbolic.trempy.ini')\n",
    "print_init_dict(exponential_dict, 'test.exponential.trempy.ini')"
   ]
  },
  {
   "cell_type": "code",
   "execution_count": null,
   "metadata": {},
   "outputs": [],
   "source": [
    "df, fval = simulate('test.trempy.ini')\n",
    "df, fval = simulate('test.hyperbolic.trempy.ini')\n",
    "df, fval = simulate('test.exponential.trempy.ini')"
   ]
  },
  {
   "cell_type": "code",
   "execution_count": null,
   "metadata": {},
   "outputs": [],
   "source": [
    "estimate('test.hyperbolic.trempy.ini')\n",
    "estimate('test.exponential.trempy.ini')\n",
    "estimate('test.trempy.ini')"
   ]
  },
  {
   "cell_type": "code",
   "execution_count": null,
   "metadata": {},
   "outputs": [],
   "source": []
  }
 ],
 "metadata": {
  "kernelspec": {
   "display_name": "Python 3",
   "language": "python",
   "name": "python3"
  },
  "language_info": {
   "codemirror_mode": {
    "name": "ipython",
    "version": 3
   },
   "file_extension": ".py",
   "mimetype": "text/x-python",
   "name": "python",
   "nbconvert_exporter": "python",
   "pygments_lexer": "ipython3",
   "version": "3.7.0"
  }
 },
 "nbformat": 4,
 "nbformat_minor": 2
}
